{
 "cells": [
  {
   "cell_type": "raw",
   "metadata": {},
   "source": []
  },
  {
   "cell_type": "raw",
   "metadata": {},
   "source": [
    "import os\n",
    "import sys\n",
    "import shutil \n",
    "#PATH = \"/home/samuel/SpiderOak Hive/ACUASI/Code_Repos/nasa-tcl3-data-generator\" # Sam's\n",
    "PATH = \"/home/esaiet/Documents/18_6_NASA_TCL3_data_processing/nasa-tcl3-data-generator\"\n",
    "sys.path.append(PATH)\n",
    "from tcl3parsers import cns2, flight_data\n",
    "\n",
    "\n",
    "#rootdir = \"/home/samuel/SpiderOak Hive/ACUASI/NASA TO6/Mission Data/CNS1\" # Sam's\n",
    "rootdir=\"/home/esaiet/Documents/18_6_NASA_TCL3_data_processing/NASA_UTM_TLC3_TO6_Mission Data/Mission Data\" # Eyal\n",
    "\n",
    "days = []\n",
    "aircraft = []\n",
    "flights = []\n",
    "\n",
    "UASORG = \"ACUASI\"\n",
    "\n",
    "if os.path.exists(rootdir + \"/deliverables\"):\n",
    "    shutil.rmtree(rootdir + \"/deliverables\")\n",
    "\n",
    "for dirpath, dirnames, filenames in os.walk(rootdir, topdown=False):\n",
    "    mi = \"\"\n",
    "    dataflash = \"\"\n",
    "    field_vars = \"\"\n",
    "    radar_file = \"\"\n",
    "    if filenames:\n",
    "        print(\"Processing directory: \" + dirpath)\n",
    "        outdir = rootdir + \"/deliverables/\" + dirpath.lstrip(rootdir)\n",
    "        for file in filenames:\n",
    "            if file.endswith(\".log\"):\n",
    "                dataflash = os.path.join(dirpath, file)\n",
    "                ts = file.strip(\".log\")\n",
    "                date = ts.split(\" \")[0].replace(\"-\", \"\")\n",
    "                time = ts.split(\" \")[1].replace(\"-\", \"\")[0:4]\n",
    "            if file.endswith(\"mission_insight.csv\"):       #\n",
    "                mi = os.path.join(dirpath, file)\n",
    "            if file.endswith(\"field_vars.csv\"):            #missing\n",
    "                field_vars = os.path.join(dirpath, file)\n",
    "            if file.endswith(\"radar_file.csv\"):            #have\n",
    "                radar_file=os.path.join(dirpath,file)\n",
    "\n",
    "        fd = \"{}/{}-{}-{}-FLIGHT_DATA.json\".format(outdir, UASORG, date, time)\n",
    "        fd_name = os.path.join(rootdir, fd)\n",
    "        s = \"{}/{}-{}-{}-CNS2.json\".format(outdir, UASORG, date, time)\n",
    "        s_name = os.path.join(rootdir, s)\n",
    "        os.makedirs(os.path.dirname(fd_name), exist_ok=True)\n",
    "        os.makedirs(os.path.dirname(s_name), exist_ok=True)\n",
    "        flight_data.generate(mi, dataflash, fd_name)\n",
    "        cns2.generate(mi, dataflash, field_vars,radar_file, s_name)\n",
    "\n",
    "print(\"Complete!\")"
   ]
  },
  {
   "cell_type": "code",
   "execution_count": null,
   "metadata": {
    "collapsed": true
   },
   "outputs": [],
   "source": []
  }
 ],
 "metadata": {
  "kernelspec": {
   "display_name": "Python 3",
   "language": "python",
   "name": "python3"
  },
  "language_info": {
   "codemirror_mode": {
    "name": "ipython",
    "version": 3
   },
   "file_extension": ".py",
   "mimetype": "text/x-python",
   "name": "python",
   "nbconvert_exporter": "python",
   "pygments_lexer": "ipython3",
   "version": "3.6.3"
  }
 },
 "nbformat": 4,
 "nbformat_minor": 2
}
