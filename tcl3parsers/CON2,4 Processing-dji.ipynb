{
 "cells": [
  {
   "cell_type": "markdown",
   "metadata": {},
   "source": [
    "# CON2,4 Processing\n"
   ]
  },
  {
   "cell_type": "markdown",
   "metadata": {
    "collapsed": true
   },
   "source": []
  },
  {
   "cell_type": "code",
   "execution_count": 1,
   "metadata": {},
   "outputs": [
    {
     "name": "stdout",
     "output_type": "stream",
     "text": [
      "Processing directory: /home/samuel/SpiderOak Hive/ACUASI/NASA TO6/Mission Data/CON2,4_dji/2018-05-25/N251MH/Flight 1\n"
     ]
    },
    {
     "ename": "NameError",
     "evalue": "name 'date' is not defined",
     "output_type": "error",
     "traceback": [
      "\u001b[0;31m---------------------------------------------------------------------------\u001b[0m",
      "\u001b[0;31mNameError\u001b[0m                                 Traceback (most recent call last)",
      "\u001b[0;32m<ipython-input-1-67400a7e64dc>\u001b[0m in \u001b[0;36m<module>\u001b[0;34m()\u001b[0m\n\u001b[1;32m     39\u001b[0m                 \u001b[0mfield_vars\u001b[0m \u001b[0;34m=\u001b[0m \u001b[0mos\u001b[0m\u001b[0;34m.\u001b[0m\u001b[0mpath\u001b[0m\u001b[0;34m.\u001b[0m\u001b[0mjoin\u001b[0m\u001b[0;34m(\u001b[0m\u001b[0mdirpath\u001b[0m\u001b[0;34m,\u001b[0m \u001b[0mfile\u001b[0m\u001b[0;34m)\u001b[0m\u001b[0;34m\u001b[0m\u001b[0m\n\u001b[1;32m     40\u001b[0m                 \u001b[0mCON2_FLAG\u001b[0m \u001b[0;34m=\u001b[0m \u001b[0;32mTrue\u001b[0m\u001b[0;34m\u001b[0m\u001b[0m\n\u001b[0;32m---> 41\u001b[0;31m         \u001b[0mfd\u001b[0m \u001b[0;34m=\u001b[0m \u001b[0;34m\"{}/{}-{}-{}-FLIGHT_DATA.json\"\u001b[0m\u001b[0;34m.\u001b[0m\u001b[0mformat\u001b[0m\u001b[0;34m(\u001b[0m\u001b[0moutdir\u001b[0m\u001b[0;34m,\u001b[0m \u001b[0mUASORG\u001b[0m\u001b[0;34m,\u001b[0m \u001b[0mdate\u001b[0m\u001b[0;34m,\u001b[0m \u001b[0mtime\u001b[0m\u001b[0;34m)\u001b[0m\u001b[0;34m\u001b[0m\u001b[0m\n\u001b[0m\u001b[1;32m     42\u001b[0m         \u001b[0mfd_name\u001b[0m \u001b[0;34m=\u001b[0m \u001b[0mos\u001b[0m\u001b[0;34m.\u001b[0m\u001b[0mpath\u001b[0m\u001b[0;34m.\u001b[0m\u001b[0mjoin\u001b[0m\u001b[0;34m(\u001b[0m\u001b[0mrootdir\u001b[0m\u001b[0;34m,\u001b[0m \u001b[0mfd\u001b[0m\u001b[0;34m)\u001b[0m\u001b[0;34m\u001b[0m\u001b[0m\n\u001b[1;32m     43\u001b[0m         \u001b[0mcon4\u001b[0m \u001b[0;34m=\u001b[0m \u001b[0;34m\"{}/{}-{}-{}-CON4.json\"\u001b[0m\u001b[0;34m.\u001b[0m\u001b[0mformat\u001b[0m\u001b[0;34m(\u001b[0m\u001b[0moutdir\u001b[0m\u001b[0;34m,\u001b[0m \u001b[0mUASORG\u001b[0m\u001b[0;34m,\u001b[0m \u001b[0mdate\u001b[0m\u001b[0;34m,\u001b[0m \u001b[0mtime\u001b[0m\u001b[0;34m)\u001b[0m\u001b[0;34m\u001b[0m\u001b[0m\n",
      "\u001b[0;31mNameError\u001b[0m: name 'date' is not defined"
     ]
    }
   ],
   "source": [
    "import os\n",
    "import sys\n",
    "import shutil\n",
    "\n",
    "PATH = \"/home/samuel/SpiderOak Hive/ACUASI/Code_Repos/nasa-tcl3-data-generator\"\n",
    "sys.path.append(PATH)\n",
    "\n",
    "from tcl3parsers import dji_con2, con4, dji_flight_data\n",
    "\n",
    "rootdir = \"/home/samuel/SpiderOak Hive/ACUASI/NASA TO6/Mission Data/CON2,4_dji\"\n",
    "\n",
    "days = []\n",
    "aircraft = []\n",
    "flights = []\n",
    "\n",
    "UASORG = \"ACUASI\"\n",
    "\n",
    "CON2_FLAG = False\n",
    "\n",
    "if os.path.exists(rootdir + \"/deliverables\"):\n",
    "    shutil.rmtree(rootdir + \"/deliverables\")\n",
    "\n",
    "for dirpath, dirnames, filenames in os.walk(rootdir, topdown=False):\n",
    "    mi = \"\"\n",
    "    dataflash = \"\"\n",
    "    field_vars = \"\"\n",
    "    if filenames:\n",
    "        print(\"Processing directory: \" + dirpath)\n",
    "        outdir = rootdir + \"/deliverables/\" + dirpath.replace(rootdir, \"\")\n",
    "        for file in filenames:\n",
    "            if file.endswith(\".log\"):\n",
    "                dataflash = os.path.join(dirpath, file)\n",
    "                ts = file.strip(\".log\")\n",
    "                date = ts.split(\" \")[0].replace(\"-\", \"\")\n",
    "                time = ts.split(\" \")[1].replace(\"-\", \"\")[0:4]\n",
    "            if file.endswith(\"mission_insight.csv\"):\n",
    "                mi = os.path.join(dirpath, file)\n",
    "            if file == \"field_vars.json\":\n",
    "                field_vars = os.path.join(dirpath, file)\n",
    "                CON2_FLAG = True\n",
    "        fd = \"{}/{}-{}-{}-FLIGHT_DATA.json\".format(outdir, UASORG, date, time)\n",
    "        fd_name = os.path.join(rootdir, fd)\n",
    "        con4 = \"{}/{}-{}-{}-CON4.json\".format(outdir, UASORG, date, time)\n",
    "        con4_name = os.path.join(rootdir, con4)\n",
    "        os.makedirs(os.path.dirname(fd_name), exist_ok=True)\n",
    "        os.makedirs(os.path.dirname(con4_name), exist_ok=True)\n",
    "        dji_flight_data.generate(mi, dataflash, fd_name)\n",
    "        con4.generate(mi, con4_name)\n",
    "        \n",
    "        if CON2_FLAG:\n",
    "            con2_name = \"{}/{}-{}-{}-CON2.json\".format(outdir, UASORG, date, time)\n",
    "            con2_name = os.path.join(rootdir, con2_name)\n",
    "            os.makedirs(os.path.dirname(con2_name), exist_ok=True)\n",
    "            dji_con2.generate(mi, field_vars, con2_name)\n",
    "\n",
    "print(\"Complete!\")\n",
    "            "
   ]
  },
  {
   "cell_type": "code",
   "execution_count": null,
   "metadata": {
    "collapsed": true
   },
   "outputs": [],
   "source": []
  },
  {
   "cell_type": "code",
   "execution_count": null,
   "metadata": {
    "collapsed": true
   },
   "outputs": [],
   "source": []
  }
 ],
 "metadata": {
  "kernelspec": {
   "display_name": "Python 3",
   "language": "python",
   "name": "python3"
  },
  "language_info": {
   "codemirror_mode": {
    "name": "ipython",
    "version": 3
   },
   "file_extension": ".py",
   "mimetype": "text/x-python",
   "name": "python",
   "nbconvert_exporter": "python",
   "pygments_lexer": "ipython3",
   "version": "3.6.3"
  }
 },
 "nbformat": 4,
 "nbformat_minor": 2
}
