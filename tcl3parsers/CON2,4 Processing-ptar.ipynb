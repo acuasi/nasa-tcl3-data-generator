{
 "cells": [
  {
   "cell_type": "markdown",
   "metadata": {},
   "source": [
    "# CON2,4 Processing--PTAR Data\n"
   ]
  },
  {
   "cell_type": "markdown",
   "metadata": {
    "collapsed": true
   },
   "source": []
  },
  {
   "cell_type": "code",
   "execution_count": null,
   "metadata": {},
   "outputs": [
    {
     "name": "stdout",
     "output_type": "stream",
     "text": [
      "Processing directory: /home/samuel/SpiderOak Hive/ACUASI/NASA TO6/Mission Data/CON2,4_ptar/2018-05-23/N241UA/Flight 2\n",
      "2.5590552000000004\n",
      "Processing directory: /home/samuel/SpiderOak Hive/ACUASI/NASA TO6/Mission Data/CON2,4_ptar/2018-05-23/N241UA/Flight 3\n",
      "5.62335976\n",
      "Processing directory: /home/samuel/SpiderOak Hive/ACUASI/NASA TO6/Mission Data/CON2,4_ptar/2018-05-23/N241UA/Flight 1\n",
      "7.12270364\n",
      "Processing directory: /home/samuel/SpiderOak Hive/ACUASI/NASA TO6/Mission Data/CON2,4_ptar/2018-05-25/N241UA/Flight 2\n",
      "2.296588\n",
      "Processing directory: /home/samuel/SpiderOak Hive/ACUASI/NASA TO6/Mission Data/CON2,4_ptar/2018-05-25/N241UA/Flight 3\n",
      "3.33661428\n",
      "Processing directory: /home/samuel/SpiderOak Hive/ACUASI/NASA TO6/Mission Data/CON2,4_ptar/2018-05-25/N241UA/Flight 1\n",
      "3.97637808\n",
      "Processing directory: /home/samuel/SpiderOak Hive/ACUASI/NASA TO6/Mission Data/CON2,4_ptar/2018-05-25/N241UA/Flight 4\n",
      "1.9127297200000002\n"
     ]
    }
   ],
   "source": [
    "import os\n",
    "import sys\n",
    "import shutil\n",
    "\n",
    "PATH = \"/home/samuel/SpiderOak Hive/ACUASI/Code_Repos/nasa-tcl3-data-generator\"\n",
    "sys.path.append(PATH)\n",
    "\n",
    "from tcl3parsers import flight_data_ptar, con2, con4\n",
    "\n",
    "rootdir = \"/home/samuel/SpiderOak Hive/ACUASI/NASA TO6/Mission Data/CON2,4_ptar\"\n",
    "\n",
    "days = []\n",
    "aircraft = []\n",
    "flights = []\n",
    "\n",
    "UASORG = \"ACUASI\"\n",
    "\n",
    "CON2_FLAG = False\n",
    "\n",
    "if os.path.exists(rootdir + \"/deliverables\"):\n",
    "    shutil.rmtree(rootdir + \"/deliverables\")\n",
    "\n",
    "for dirpath, dirnames, filenames in os.walk(rootdir, topdown=False):\n",
    "    mi = \"\"\n",
    "    dataflash = \"\"\n",
    "    field_vars = \"\"\n",
    "    if filenames:\n",
    "        print(\"Processing directory: \" + dirpath)\n",
    "        outdir = rootdir + \"/deliverables/\" + dirpath.replace(rootdir, \"\")\n",
    "        for file in filenames:\n",
    "            if file.endswith(\"tlog.csv\"):\n",
    "                telemetry = os.path.join(dirpath, file)\n",
    "                ts = file.strip(\"tlog.csv\")\n",
    "                date = ts.split(\" \")[0].replace(\"-\", \"\")\n",
    "                time = ts.split(\" \")[1].replace(\"-\", \"\")[0:4]\n",
    "            if file.endswith(\"mission_insight.csv\"):\n",
    "                mi = os.path.join(dirpath, file)\n",
    "            if file.endswith(\".waypoints\"):\n",
    "                waypoints = os.path.join(dirpath, file)\n",
    "            if file == \"field_vars.json\":\n",
    "                field_vars = os.path.join(dirpath, file)\n",
    "                CON2_FLAG = True\n",
    "        fd = \"{}/{}-{}-{}-FLIGHT_DATA.json\".format(outdir, UASORG, date, time)\n",
    "        fd_name = os.path.join(rootdir, fd)\n",
    "        con4_name = \"{}/{}-{}-{}-CON4.json\".format(outdir, UASORG, date, time)\n",
    "        con4_name = os.path.join(rootdir, con4_name)\n",
    "        os.makedirs(os.path.dirname(fd_name), exist_ok=True)\n",
    "        os.makedirs(os.path.dirname(con4_name), exist_ok=True)\n",
    "        flight_data_ptar.generate(mi, telemetry, waypoints, fd_name)\n",
    "        con4.generate(mi, con4_name)\n",
    "        \n",
    "        if CON2_FLAG:\n",
    "            con2_name = \"{}/{}-{}-{}-CON2.json\".format(outdir, UASORG, date, time)\n",
    "            con2_name = os.path.join(rootdir, con2_name)\n",
    "            os.makedirs(os.path.dirname(con2_name), exist_ok=True)\n",
    "            con2.generate(mi, field_vars, con2_name)\n",
    "            CON2_FLAG = False\n",
    "\n",
    "print(\"Complete!\")\n",
    "            "
   ]
  },
  {
   "cell_type": "code",
   "execution_count": null,
   "metadata": {
    "collapsed": true
   },
   "outputs": [],
   "source": []
  },
  {
   "cell_type": "code",
   "execution_count": null,
   "metadata": {
    "collapsed": true
   },
   "outputs": [],
   "source": []
  }
 ],
 "metadata": {
  "kernelspec": {
   "display_name": "Python 3",
   "language": "python",
   "name": "python3"
  },
  "language_info": {
   "codemirror_mode": {
    "name": "ipython",
    "version": 3
   },
   "file_extension": ".py",
   "mimetype": "text/x-python",
   "name": "python",
   "nbconvert_exporter": "python",
   "pygments_lexer": "ipython3",
   "version": "3.6.3"
  }
 },
 "nbformat": 4,
 "nbformat_minor": 2
}
