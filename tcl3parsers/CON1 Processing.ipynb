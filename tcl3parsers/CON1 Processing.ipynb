{
 "cells": [
  {
   "cell_type": "markdown",
   "metadata": {},
   "source": [
    "# CON1 Processing\n"
   ]
  },
  {
   "cell_type": "markdown",
   "metadata": {
    "collapsed": true
   },
   "source": []
  },
  {
   "cell_type": "code",
   "execution_count": 1,
   "metadata": {},
   "outputs": [
    {
     "ename": "FileNotFoundError",
     "evalue": "[Errno 2] No such file or directory: ''",
     "output_type": "error",
     "traceback": [
      "\u001b[0;31m---------------------------------------------------------------------------\u001b[0m",
      "\u001b[0;31mFileNotFoundError\u001b[0m                         Traceback (most recent call last)",
      "\u001b[0;32m<ipython-input-1-9a6651955219>\u001b[0m in \u001b[0;36m<module>\u001b[0;34m()\u001b[0m\n\u001b[1;32m     48\u001b[0m             \u001b[0mos\u001b[0m\u001b[0;34m.\u001b[0m\u001b[0mmakedirs\u001b[0m\u001b[0;34m(\u001b[0m\u001b[0mos\u001b[0m\u001b[0;34m.\u001b[0m\u001b[0mpath\u001b[0m\u001b[0;34m.\u001b[0m\u001b[0mdirname\u001b[0m\u001b[0;34m(\u001b[0m\u001b[0mfd_name\u001b[0m\u001b[0;34m)\u001b[0m\u001b[0;34m,\u001b[0m \u001b[0mexist_ok\u001b[0m\u001b[0;34m=\u001b[0m\u001b[0;32mTrue\u001b[0m\u001b[0;34m)\u001b[0m\u001b[0;34m\u001b[0m\u001b[0m\n\u001b[1;32m     49\u001b[0m             \u001b[0mos\u001b[0m\u001b[0;34m.\u001b[0m\u001b[0mmakedirs\u001b[0m\u001b[0;34m(\u001b[0m\u001b[0mos\u001b[0m\u001b[0;34m.\u001b[0m\u001b[0mpath\u001b[0m\u001b[0;34m.\u001b[0m\u001b[0mdirname\u001b[0m\u001b[0;34m(\u001b[0m\u001b[0ms_name\u001b[0m\u001b[0;34m)\u001b[0m\u001b[0;34m,\u001b[0m \u001b[0mexist_ok\u001b[0m\u001b[0;34m=\u001b[0m\u001b[0;32mTrue\u001b[0m\u001b[0;34m)\u001b[0m\u001b[0;34m\u001b[0m\u001b[0m\n\u001b[0;32m---> 50\u001b[0;31m             \u001b[0mflight_data\u001b[0m\u001b[0;34m.\u001b[0m\u001b[0mgenerate\u001b[0m\u001b[0;34m(\u001b[0m\u001b[0mmi\u001b[0m\u001b[0;34m,\u001b[0m \u001b[0mdataflash\u001b[0m\u001b[0;34m,\u001b[0m \u001b[0mfd_name\u001b[0m\u001b[0;34m)\u001b[0m\u001b[0;34m\u001b[0m\u001b[0m\n\u001b[0m\u001b[1;32m     51\u001b[0m             \u001b[0mcon1\u001b[0m\u001b[0;34m.\u001b[0m\u001b[0mgenerate\u001b[0m\u001b[0;34m(\u001b[0m\u001b[0mmi\u001b[0m\u001b[0;34m,\u001b[0m \u001b[0mdataflash\u001b[0m\u001b[0;34m,\u001b[0m \u001b[0mweather_file\u001b[0m\u001b[0;34m,\u001b[0m \u001b[0mfield_vars\u001b[0m\u001b[0;34m,\u001b[0m \u001b[0ms_name\u001b[0m\u001b[0;34m)\u001b[0m\u001b[0;34m\u001b[0m\u001b[0m\n\u001b[1;32m     52\u001b[0m \u001b[0;34m\u001b[0m\u001b[0m\n",
      "\u001b[0;32m~/SpiderOak Hive/ACUASI/Code_Repos/nasa-tcl3-data-generator/tcl3parsers/flight_data.py\u001b[0m in \u001b[0;36mgenerate\u001b[0;34m(mi_file_name, dataflash_file_name, outfile_name)\u001b[0m\n\u001b[1;32m     69\u001b[0m                      \"RTL\": 1, \"Guided\": 2, \"Land\": 1}\n\u001b[1;32m     70\u001b[0m \u001b[0;34m\u001b[0m\u001b[0m\n\u001b[0;32m---> 71\u001b[0;31m     \u001b[0;32mwith\u001b[0m \u001b[0mopen\u001b[0m\u001b[0;34m(\u001b[0m\u001b[0mmi_file_name\u001b[0m\u001b[0;34m,\u001b[0m \u001b[0;34m\"r\"\u001b[0m\u001b[0;34m)\u001b[0m \u001b[0;32mas\u001b[0m \u001b[0mmi_file\u001b[0m\u001b[0;34m:\u001b[0m\u001b[0;34m\u001b[0m\u001b[0m\n\u001b[0m\u001b[1;32m     72\u001b[0m         \u001b[0mmi_reader\u001b[0m \u001b[0;34m=\u001b[0m \u001b[0mcsv\u001b[0m\u001b[0;34m.\u001b[0m\u001b[0mDictReader\u001b[0m\u001b[0;34m(\u001b[0m\u001b[0mmi_file\u001b[0m\u001b[0;34m)\u001b[0m\u001b[0;34m\u001b[0m\u001b[0m\n\u001b[1;32m     73\u001b[0m         \u001b[0;32mfor\u001b[0m \u001b[0mrow\u001b[0m \u001b[0;32min\u001b[0m \u001b[0mmi_reader\u001b[0m\u001b[0;34m:\u001b[0m\u001b[0;34m\u001b[0m\u001b[0m\n",
      "\u001b[0;31mFileNotFoundError\u001b[0m: [Errno 2] No such file or directory: ''"
     ]
    }
   ],
   "source": [
    "import os\n",
    "import sys\n",
    "import shutil\n",
    "\n",
    "PATH = \"/home/samuel/SpiderOak Hive/ACUASI/Code_Repos/nasa-tcl3-data-generator\"\n",
    "sys.path.append(PATH)\n",
    "\n",
    "from tcl3parsers import con1, flight_data\n",
    "\n",
    "rootdir = \"/home/samuel/SpiderOak Hive/ACUASI/NASA TO6/Mission Data/CON1\"\n",
    "\n",
    "days = []\n",
    "aircraft = []\n",
    "flights = []\n",
    "\n",
    "UASORG = \"ACUASI\"\n",
    "\n",
    "if os.path.exists(rootdir + \"/deliverables\"):\n",
    "    shutil.rmtree(rootdir + \"/deliverables\")\n",
    "\n",
    "for dirpath, dirnames, filenames in os.walk(rootdir):\n",
    "    if filenames and \"Flight\" in dirpath:\n",
    "        flights.append(dirpath)\n",
    "                \n",
    "for flight in flights:\n",
    "    mi = \"\"\n",
    "    dataflash = \"\"\n",
    "    field_vars = \"\"\n",
    "    weather_file = \"\"\n",
    "    for dirpath, dirnames, filenames in os.walk(flight):\n",
    "        if filenames:\n",
    "            for file in filenames:\n",
    "                if file.endswith(\".log\"):\n",
    "                    dataflash = os.path.join(dirpath, file)\n",
    "                    ts = file.strip(\".log\")\n",
    "                    date = ts.split(\" \")[0].replace(\"-\", \"\")\n",
    "                    time = ts.split(\" \")[1].replace(\"-\", \"\")[0:4]\n",
    "                if \"mission_insight\" in file:\n",
    "                    mi = os.path.join(dirpath, file)\n",
    "                if file.endswith(\"field_variables.csv\"):\n",
    "                    field_vars = os.path.join(dirpath, file)\n",
    "                if file.endswith(\"weather_file.csv\"):\n",
    "                    weather_file = os.path.join(dirpath, file)\n",
    "            fd = \"{}/{}/{}-{}-{}-FLIGHT_DATA.json\".format(\"deliverables\", os.path.basename(flight), UASORG, date, time)\n",
    "            fd_name = os.path.join(rootdir, fd)\n",
    "            s = \"{}/{}/{}-{}-{}-CON1.json\".format(\"deliverables\", os.path.basename(flight), UASORG, date, time)\n",
    "            s_name = os.path.join(rootdir, s)\n",
    "            os.makedirs(os.path.dirname(fd_name), exist_ok=True)\n",
    "            os.makedirs(os.path.dirname(s_name), exist_ok=True)\n",
    "            flight_data.generate(mi, dataflash, fd_name)\n",
    "            con1.generate(mi, dataflash, weather_file, field_vars, s_name)\n",
    "\n",
    "print(\"Complete!\")\n",
    "            "
   ]
  },
  {
   "cell_type": "code",
   "execution_count": null,
   "metadata": {
    "collapsed": true
   },
   "outputs": [],
   "source": []
  },
  {
   "cell_type": "code",
   "execution_count": null,
   "metadata": {
    "collapsed": true
   },
   "outputs": [],
   "source": []
  }
 ],
 "metadata": {
  "kernelspec": {
   "display_name": "Python 3",
   "language": "python",
   "name": "python3"
  },
  "language_info": {
   "codemirror_mode": {
    "name": "ipython",
    "version": 3
   },
   "file_extension": ".py",
   "mimetype": "text/x-python",
   "name": "python",
   "nbconvert_exporter": "python",
   "pygments_lexer": "ipython3",
   "version": "3.6.3"
  }
 },
 "nbformat": 4,
 "nbformat_minor": 2
}
