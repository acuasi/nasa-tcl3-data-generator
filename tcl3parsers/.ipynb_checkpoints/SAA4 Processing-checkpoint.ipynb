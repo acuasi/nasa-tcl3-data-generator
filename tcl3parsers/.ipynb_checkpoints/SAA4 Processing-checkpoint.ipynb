{
 "cells": [
  {
   "cell_type": "markdown",
   "metadata": {},
   "source": [
    "# SAA4 Processing\n"
   ]
  },
  {
   "cell_type": "code",
   "execution_count": 7,
   "metadata": {},
   "outputs": [
    {
     "name": "stdout",
     "output_type": "stream",
     "text": [
      "/home/samuel/SpiderOak Hive/ACUASI/NASA TO6/Mission Data/SAA4/2018-05-09/N260UA/Flight 2/2018-05-09 13-10-17_radar_data.csv\n",
      "/home/samuel/SpiderOak Hive/ACUASI/NASA TO6/Mission Data/SAA4/2018-05-09/N260UA/Flight 1/2018-05-09 12-28-24_radar_data.csv\n",
      "Complete!\n"
     ]
    }
   ],
   "source": [
    "import os\n",
    "import sys\n",
    "import json\n",
    "import shutil\n",
    "PATH = \"/home/samuel/SpiderOak Hive/ACUASI/Code_Repos/nasa-tcl3-data-generator\"\n",
    "sys.path.append(PATH)\n",
    "from tcl3parsers import saa4, flight_data\n",
    "\n",
    "rootdir = \"/home/samuel/SpiderOak Hive/ACUASI/NASA TO6/Mission Data/SAA4\"\n",
    "\n",
    "days = []\n",
    "aircraft = []\n",
    "flights = []\n",
    "\n",
    "UASORG = \"ACUASI\"\n",
    "\n",
    "FLAG = 0\n",
    "\n",
    "if os.path.exists(rootdir + \"/deliverables\"):\n",
    "    shutil.rmtree(rootdir + \"/deliverables\")\n",
    "\n",
    "for dirpath, dirnames, filenames in os.walk(rootdir):\n",
    "    if filenames and \"Flight\" in dirpath:\n",
    "        flights.append(dirpath)\n",
    "                \n",
    "\n",
    "for flight in flights:\n",
    "    mi = \"\"\n",
    "    dataflash = \"\"\n",
    "    saa_ti = \"\"\n",
    "    saa_td = \"\"\n",
    "    for dirpath, dirnames, filenames in os.walk(flight):\n",
    "        if filenames:\n",
    "            for file in filenames:\n",
    "                if file.endswith(\".log\"):\n",
    "                    dataflash = os.path.join(dirpath, file)\n",
    "                    ts = file.strip(\".log\")\n",
    "                    date = ts.split(\" \")[0].replace(\"-\", \"\")\n",
    "                    time = ts.split(\" \")[1].replace(\"-\", \"\")[0:4]\n",
    "                    date2 = ts.split(\" \")[0]\n",
    "                if \"mission_insight\" in file:\n",
    "                    mi = os.path.join(dirpath, file)\n",
    "                if file.endswith(\"TI.csv\"):\n",
    "                    saa_ti = os.path.join(dirpath, file)\n",
    "                if file.endswith(\"TD.csv\"):\n",
    "                    saa_td = os.path.join(dirpath, file)\n",
    "                if file.endswith(\"radar_data.csv\"):\n",
    "                    radar = os.path.join(dirpath, file)\n",
    "            fd = \"{}/{}/{}/{}/{}-{}-{}-FLIGHT_DATA.json\".format(\"deliverables\", date, \"N260UA\", os.path.basename(flight), UASORG, date, time)\n",
    "            fd_name = os.path.join(rootdir, fd)\n",
    "            s = \"{}/{}/{}/{}/{}-{}-{}-SAA4.json\".format(\"deliverables\", date, \"N260UA\", os.path.basename(flight), UASORG, date, time)\n",
    "            s_name = os.path.join(rootdir, s)\n",
    "            os.makedirs(os.path.dirname(fd_name), exist_ok=True)\n",
    "            os.makedirs(os.path.dirname(s_name), exist_ok=True)\n",
    "            flight_data.generate(mi, dataflash, fd_name)\n",
    "            saa4.generate(mi, saa_ti, saa_td, radar, s_name)\n",
    "            \n",
    "print(\"Complete!\")"
   ]
  },
  {
   "cell_type": "code",
   "execution_count": null,
   "metadata": {
    "collapsed": true
   },
   "outputs": [],
   "source": []
  }
 ],
 "metadata": {
  "kernelspec": {
   "display_name": "Python 3",
   "language": "python",
   "name": "python3"
  },
  "language_info": {
   "codemirror_mode": {
    "name": "ipython",
    "version": 3
   },
   "file_extension": ".py",
   "mimetype": "text/x-python",
   "name": "python",
   "nbconvert_exporter": "python",
   "pygments_lexer": "ipython3",
   "version": "3.6.3"
  }
 },
 "nbformat": 4,
 "nbformat_minor": 2
}
