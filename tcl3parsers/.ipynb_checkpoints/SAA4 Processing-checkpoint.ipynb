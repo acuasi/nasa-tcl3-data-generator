{
 "cells": [
  {
   "cell_type": "markdown",
   "metadata": {},
   "source": [
    "# SAA4 Processing\n"
   ]
  },
  {
   "cell_type": "code",
   "execution_count": 3,
   "metadata": {},
   "outputs": [
    {
     "name": "stdout",
     "output_type": "stream",
     "text": [
      "Processing directory: /home/samuel/SpiderOak Hive/ACUASI/NASA TO6/Mission Data/SAA4/2018-05-09/N260UA/Flight 2\n",
      "Processing directory: /home/samuel/SpiderOak Hive/ACUASI/NASA TO6/Mission Data/SAA4/2018-05-09/N260UA/Flight 1\n",
      "Processing directory: /home/samuel/SpiderOak Hive/ACUASI/NASA TO6/Mission Data/SAA4\n"
     ]
    },
    {
     "ename": "FileNotFoundError",
     "evalue": "[Errno 2] No such file or directory: ''",
     "output_type": "error",
     "traceback": [
      "\u001b[0;31m---------------------------------------------------------------------------\u001b[0m",
      "\u001b[0;31mFileNotFoundError\u001b[0m                         Traceback (most recent call last)",
      "\u001b[0;32m<ipython-input-3-9697920cf93f>\u001b[0m in \u001b[0;36m<module>\u001b[0;34m()\u001b[0m\n\u001b[1;32m     49\u001b[0m         \u001b[0mos\u001b[0m\u001b[0;34m.\u001b[0m\u001b[0mmakedirs\u001b[0m\u001b[0;34m(\u001b[0m\u001b[0mos\u001b[0m\u001b[0;34m.\u001b[0m\u001b[0mpath\u001b[0m\u001b[0;34m.\u001b[0m\u001b[0mdirname\u001b[0m\u001b[0;34m(\u001b[0m\u001b[0mfd_name\u001b[0m\u001b[0;34m)\u001b[0m\u001b[0;34m,\u001b[0m \u001b[0mexist_ok\u001b[0m\u001b[0;34m=\u001b[0m\u001b[0;32mTrue\u001b[0m\u001b[0;34m)\u001b[0m\u001b[0;34m\u001b[0m\u001b[0m\n\u001b[1;32m     50\u001b[0m         \u001b[0mos\u001b[0m\u001b[0;34m.\u001b[0m\u001b[0mmakedirs\u001b[0m\u001b[0;34m(\u001b[0m\u001b[0mos\u001b[0m\u001b[0;34m.\u001b[0m\u001b[0mpath\u001b[0m\u001b[0;34m.\u001b[0m\u001b[0mdirname\u001b[0m\u001b[0;34m(\u001b[0m\u001b[0ms_name\u001b[0m\u001b[0;34m)\u001b[0m\u001b[0;34m,\u001b[0m \u001b[0mexist_ok\u001b[0m\u001b[0;34m=\u001b[0m\u001b[0;32mTrue\u001b[0m\u001b[0;34m)\u001b[0m\u001b[0;34m\u001b[0m\u001b[0m\n\u001b[0;32m---> 51\u001b[0;31m         \u001b[0mflight_data\u001b[0m\u001b[0;34m.\u001b[0m\u001b[0mgenerate\u001b[0m\u001b[0;34m(\u001b[0m\u001b[0mmi\u001b[0m\u001b[0;34m,\u001b[0m \u001b[0mdataflash\u001b[0m\u001b[0;34m,\u001b[0m \u001b[0mfd_name\u001b[0m\u001b[0;34m)\u001b[0m\u001b[0;34m\u001b[0m\u001b[0m\n\u001b[0m\u001b[1;32m     52\u001b[0m         \u001b[0msaa4\u001b[0m\u001b[0;34m.\u001b[0m\u001b[0mgenerate\u001b[0m\u001b[0;34m(\u001b[0m\u001b[0mmi\u001b[0m\u001b[0;34m,\u001b[0m \u001b[0msaa_ti\u001b[0m\u001b[0;34m,\u001b[0m \u001b[0msaa_td\u001b[0m\u001b[0;34m,\u001b[0m \u001b[0mradar\u001b[0m\u001b[0;34m,\u001b[0m \u001b[0ms_name\u001b[0m\u001b[0;34m)\u001b[0m\u001b[0;34m\u001b[0m\u001b[0m\n\u001b[1;32m     53\u001b[0m \u001b[0;34m\u001b[0m\u001b[0m\n",
      "\u001b[0;32m~/SpiderOak Hive/ACUASI/Code_Repos/nasa-tcl3-data-generator/tcl3parsers/flight_data.py\u001b[0m in \u001b[0;36mgenerate\u001b[0;34m(mi_file_name, dataflash_file_name, outfile_name)\u001b[0m\n\u001b[1;32m     74\u001b[0m                      \"RTL\": 1, \"Guided\": 2, \"Land\": 1}\n\u001b[1;32m     75\u001b[0m \u001b[0;34m\u001b[0m\u001b[0m\n\u001b[0;32m---> 76\u001b[0;31m     \u001b[0;32mwith\u001b[0m \u001b[0mopen\u001b[0m\u001b[0;34m(\u001b[0m\u001b[0mmi_file_name\u001b[0m\u001b[0;34m,\u001b[0m \u001b[0;34m\"r\"\u001b[0m\u001b[0;34m)\u001b[0m \u001b[0;32mas\u001b[0m \u001b[0mmi_file\u001b[0m\u001b[0;34m:\u001b[0m\u001b[0;34m\u001b[0m\u001b[0m\n\u001b[0m\u001b[1;32m     77\u001b[0m         \u001b[0mmi_reader\u001b[0m \u001b[0;34m=\u001b[0m \u001b[0mcsv\u001b[0m\u001b[0;34m.\u001b[0m\u001b[0mDictReader\u001b[0m\u001b[0;34m(\u001b[0m\u001b[0mmi_file\u001b[0m\u001b[0;34m)\u001b[0m\u001b[0;34m\u001b[0m\u001b[0m\n\u001b[1;32m     78\u001b[0m         \u001b[0;32mfor\u001b[0m \u001b[0mrow\u001b[0m \u001b[0;32min\u001b[0m \u001b[0mmi_reader\u001b[0m\u001b[0;34m:\u001b[0m\u001b[0;34m\u001b[0m\u001b[0m\n",
      "\u001b[0;31mFileNotFoundError\u001b[0m: [Errno 2] No such file or directory: ''"
     ]
    }
   ],
   "source": [
    "import os\n",
    "import sys\n",
    "import json\n",
    "import shutil\n",
    "PATH = \"/home/samuel/SpiderOak Hive/ACUASI/Code_Repos/nasa-tcl3-data-generator\"\n",
    "sys.path.append(PATH)\n",
    "from tcl3parsers import saa4, flight_data\n",
    "\n",
    "rootdir = \"/home/samuel/SpiderOak Hive/ACUASI/NASA TO6/Mission Data/SAA4\"\n",
    "\n",
    "days = []\n",
    "aircraft = []\n",
    "flights = []\n",
    "\n",
    "UASORG = \"ACUASI\"\n",
    "\n",
    "FLAG = 0\n",
    "\n",
    "if os.path.exists(rootdir + \"/deliverables\"):\n",
    "    shutil.rmtree(rootdir + \"/deliverables\")             \n",
    "\n",
    "for dirpath, dirnames, filenames in os.walk(rootdir, topdown=False):\n",
    "    mi = \"\"\n",
    "    dataflash = \"\"\n",
    "    saa_ti = \"\"\n",
    "    saa_td = \"\"\n",
    "    if filenames:\n",
    "        print(\"Processing directory: \" + dirpath)\n",
    "        outdir = rootdir + \"/deliverables/\" + dirpath.replace(rootdir, \"\")\n",
    "        for file in filenames:\n",
    "            if file.endswith(\".log\"):\n",
    "                dataflash = os.path.join(dirpath, file)\n",
    "                ts = file.strip(\".log\")\n",
    "                date = ts.split(\" \")[0].replace(\"-\", \"\")\n",
    "                time = ts.split(\" \")[1].replace(\"-\", \"\")[0:4]\n",
    "                date2 = ts.split(\" \")[0]\n",
    "            if file.endswith(\"mission_insight.csv\"):\n",
    "                mi = os.path.join(dirpath, file)\n",
    "            if file.endswith(\"TI.csv\"):\n",
    "                saa_ti = os.path.join(dirpath, file)\n",
    "            if file.endswith(\"TD.csv\"):\n",
    "                saa_td = os.path.join(dirpath, file)\n",
    "            if file.endswith(\"radar_data.csv\"):\n",
    "                radar = os.path.join(dirpath, file)\n",
    "        fd = \"{}/{}-{}-{}-FLIGHT_DATA.json\".format(outdir, UASORG, date, time)\n",
    "        fd_name = os.path.join(rootdir, fd)\n",
    "        s = \"{}/{}-{}-{}-SAA4.json\".format(outdir, UASORG, date, time)\n",
    "        s_name = os.path.join(rootdir, s)\n",
    "        os.makedirs(os.path.dirname(fd_name), exist_ok=True)\n",
    "        os.makedirs(os.path.dirname(s_name), exist_ok=True)\n",
    "        flight_data.generate(mi, dataflash, fd_name)\n",
    "        saa4.generate(mi, saa_ti, saa_td, radar, s_name)\n",
    "            \n",
    "print(\"Complete!\")"
   ]
  },
  {
   "cell_type": "code",
   "execution_count": null,
   "metadata": {
    "collapsed": true
   },
   "outputs": [],
   "source": []
  }
 ],
 "metadata": {
  "kernelspec": {
   "display_name": "Python 3",
   "language": "python",
   "name": "python3"
  },
  "language_info": {
   "codemirror_mode": {
    "name": "ipython",
    "version": 3
   },
   "file_extension": ".py",
   "mimetype": "text/x-python",
   "name": "python",
   "nbconvert_exporter": "python",
   "pygments_lexer": "ipython3",
   "version": "3.6.3"
  }
 },
 "nbformat": 4,
 "nbformat_minor": 2
}
