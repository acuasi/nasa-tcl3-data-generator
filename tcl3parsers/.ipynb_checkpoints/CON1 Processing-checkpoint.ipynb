{
 "cells": [
  {
   "cell_type": "markdown",
   "metadata": {},
   "source": [
    "# CON1 Processing\n"
   ]
  },
  {
   "cell_type": "markdown",
   "metadata": {
    "collapsed": true
   },
   "source": []
  },
  {
   "cell_type": "code",
   "execution_count": 5,
   "metadata": {},
   "outputs": [
    {
     "name": "stdout",
     "output_type": "stream",
     "text": [
      "Processing directory: /home/samuel/SpiderOak Hive/ACUASI/NASA TO6/Mission Data/CON1/2018-05-17/N260MH/Flight 2\n",
      "Processing directory: /home/samuel/SpiderOak Hive/ACUASI/NASA TO6/Mission Data/CON1/2018-05-17/N260MH/Flight 1\n",
      "Processing directory: /home/samuel/SpiderOak Hive/ACUASI/NASA TO6/Mission Data/CON1/2018-05-04/N971UA/Flight 2\n",
      "Processing directory: /home/samuel/SpiderOak Hive/ACUASI/NASA TO6/Mission Data/CON1/2018-05-04/N971UA/Flight 1\n",
      "Complete!\n"
     ]
    }
   ],
   "source": [
    "import os\n",
    "import sys\n",
    "import shutil\n",
    "import re\n",
    "\n",
    "PATH = \"/home/samuel/SpiderOak Hive/ACUASI/Code_Repos/nasa-tcl3-data-generator\"\n",
    "sys.path.append(PATH)\n",
    "\n",
    "from tcl3parsers import con1, flight_data\n",
    "\n",
    "rootdir = \"/home/samuel/SpiderOak Hive/ACUASI/NASA TO6/Mission Data/CON1\"\n",
    "\n",
    "days = []\n",
    "aircraft = []\n",
    "flights = []\n",
    "\n",
    "UASORG = \"ACUASI\"\n",
    "\n",
    "if os.path.exists(rootdir + \"/deliverables\"):\n",
    "    shutil.rmtree(rootdir + \"/deliverables\")\n",
    "    \n",
    "for dirpath, dirnames, filenames in os.walk(rootdir, topdown=False):\n",
    "    mi = \"\"\n",
    "    dataflash = \"\"\n",
    "    field_vars = \"\"\n",
    "    weather_file = \"\"\n",
    "    if filenames:\n",
    "        print(\"Processing directory: \" + dirpath)\n",
    "        outdir = rootdir + \"/deliverables/\" + dirpath.lstrip(rootdir)\n",
    "        for file in filenames:\n",
    "            if file.endswith(\".log\"):\n",
    "                dataflash = os.path.join(dirpath, file)\n",
    "                ts = file.strip(\".log\")\n",
    "                date = ts.split(\" \")[0].replace(\"-\", \"\")\n",
    "                time = ts.split(\" \")[1].replace(\"-\", \"\")[0:4]\n",
    "            if file.endswith(\"mission_insight.csv\"):\n",
    "                mi = os.path.join(dirpath, file)\n",
    "            if file.endswith(\"field_vars.csv\"):\n",
    "                field_vars = os.path.join(dirpath, file)\n",
    "            if file.endswith(\"weather_file.csv\"):\n",
    "                weather_file = os.path.join(dirpath, file)\n",
    "        fd = \"{}/{}-{}-{}-FLIGHT_DATA.json\".format(outdir, UASORG, date, time)\n",
    "        fd_name = os.path.join(rootdir, fd)\n",
    "        s = \"{}/{}-{}-{}-CON1.json\".format(outdir, UASORG, date, time)\n",
    "        s_name = os.path.join(rootdir, s)\n",
    "        os.makedirs(os.path.dirname(fd_name), exist_ok=True)\n",
    "        os.makedirs(os.path.dirname(s_name), exist_ok=True)\n",
    "        flight_data.generate(mi, dataflash, fd_name)\n",
    "        con1.generate(mi, dataflash, weather_file, field_vars, s_name)\n",
    "\n",
    "print(\"Complete!\")\n",
    "            "
   ]
  },
  {
   "cell_type": "code",
   "execution_count": null,
   "metadata": {
    "collapsed": true
   },
   "outputs": [],
   "source": []
  },
  {
   "cell_type": "code",
   "execution_count": null,
   "metadata": {
    "collapsed": true
   },
   "outputs": [],
   "source": []
  }
 ],
 "metadata": {
  "kernelspec": {
   "display_name": "Python 3",
   "language": "python",
   "name": "python3"
  },
  "language_info": {
   "codemirror_mode": {
    "name": "ipython",
    "version": 3
   },
   "file_extension": ".py",
   "mimetype": "text/x-python",
   "name": "python",
   "nbconvert_exporter": "python",
   "pygments_lexer": "ipython3",
   "version": "3.6.3"
  }
 },
 "nbformat": 4,
 "nbformat_minor": 2
}
