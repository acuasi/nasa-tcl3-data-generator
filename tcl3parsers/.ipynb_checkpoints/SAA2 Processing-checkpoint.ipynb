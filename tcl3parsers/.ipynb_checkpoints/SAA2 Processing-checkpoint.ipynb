{
 "cells": [
  {
   "cell_type": "markdown",
   "metadata": {},
   "source": [
    "# SAA2 Processing\n",
    "\n",
    "* Mission Insight csv file did not have a gcs_location parameter; added manually. Ensure it's recorded for future flights.\n",
    "* The dataflash file is the same for Flights 1-3. Fixed by separating out into three files. \n",
    "\n",
    "# To Do\n",
    "Add objective path to \"SAA2.waypoints\" files for each one. "
   ]
  },
  {
   "cell_type": "code",
   "execution_count": 11,
   "metadata": {},
   "outputs": [
    {
     "name": "stdout",
     "output_type": "stream",
     "text": [
      "Files generated.\n",
      "ACUASI-20180423-1422-FLIGHT_DATA.json. . . opened!\n"
     ]
    },
    {
     "ename": "NameError",
     "evalue": "name 'sensor' is not defined",
     "output_type": "error",
     "traceback": [
      "\u001b[0;31m---------------------------------------------------------------------------\u001b[0m",
      "\u001b[0;31mNameError\u001b[0m                                 Traceback (most recent call last)",
      "\u001b[0;32m<ipython-input-11-ba93e9315b6d>\u001b[0m in \u001b[0;36m<module>\u001b[0;34m()\u001b[0m\n\u001b[1;32m     87\u001b[0m                 \u001b[0;32mwith\u001b[0m \u001b[0mopen\u001b[0m\u001b[0;34m(\u001b[0m\u001b[0mos\u001b[0m\u001b[0;34m.\u001b[0m\u001b[0mpath\u001b[0m\u001b[0;34m.\u001b[0m\u001b[0mjoin\u001b[0m\u001b[0;34m(\u001b[0m\u001b[0mdirpath\u001b[0m\u001b[0;34m,\u001b[0m \u001b[0mfile\u001b[0m\u001b[0;34m)\u001b[0m\u001b[0;34m,\u001b[0m \u001b[0;34m\"w\"\u001b[0m\u001b[0;34m)\u001b[0m \u001b[0;32mas\u001b[0m \u001b[0mfd_file\u001b[0m\u001b[0;34m:\u001b[0m\u001b[0;34m\u001b[0m\u001b[0m\n\u001b[1;32m     88\u001b[0m                     \u001b[0mtime\u001b[0m \u001b[0;34m=\u001b[0m \u001b[0mfd_json\u001b[0m\u001b[0;34m[\u001b[0m\u001b[0;34m\"auxiliaryUASOperation\"\u001b[0m\u001b[0;34m]\u001b[0m\u001b[0;34m[\u001b[0m\u001b[0;34m\"takeOffTime\"\u001b[0m\u001b[0;34m]\u001b[0m\u001b[0;34m\u001b[0m\u001b[0m\n\u001b[0;32m---> 89\u001b[0;31m                     \u001b[0mwaypoint_lat\u001b[0m \u001b[0;34m=\u001b[0m \u001b[0;34m{\u001b[0m\u001b[0;34m\"ts\"\u001b[0m\u001b[0;34m:\u001b[0m \u001b[0mtime\u001b[0m\u001b[0;34m,\u001b[0m \u001b[0msensor\u001b[0m\u001b[0;34m:\u001b[0m \u001b[0;34m\"targetWaypointLat_deg\"\u001b[0m\u001b[0;34m,\u001b[0m \u001b[0;34m\"value\"\u001b[0m\u001b[0;34m:\u001b[0m \u001b[0mlat\u001b[0m\u001b[0;34m}\u001b[0m\u001b[0;34m\u001b[0m\u001b[0m\n\u001b[0m\u001b[1;32m     90\u001b[0m                     \u001b[0mwaypoint_lon\u001b[0m \u001b[0;34m=\u001b[0m \u001b[0;34m{\u001b[0m\u001b[0;34m\"ts\"\u001b[0m\u001b[0;34m:\u001b[0m \u001b[0mtime\u001b[0m\u001b[0;34m,\u001b[0m \u001b[0msensor\u001b[0m\u001b[0;34m:\u001b[0m \u001b[0;34m\"targetWaypointLon_deg\"\u001b[0m\u001b[0;34m,\u001b[0m \u001b[0;34m\"value\"\u001b[0m\u001b[0;34m:\u001b[0m \u001b[0mlon\u001b[0m\u001b[0;34m}\u001b[0m\u001b[0;34m\u001b[0m\u001b[0m\n\u001b[1;32m     91\u001b[0m                     \u001b[0mwaypoint_alt\u001b[0m \u001b[0;34m=\u001b[0m \u001b[0;34m{\u001b[0m\u001b[0;34m\"ts\"\u001b[0m\u001b[0;34m:\u001b[0m \u001b[0mtime\u001b[0m\u001b[0;34m,\u001b[0m \u001b[0msensor\u001b[0m\u001b[0;34m:\u001b[0m \u001b[0;34m\"targetWaypointAlt_deg\"\u001b[0m\u001b[0;34m,\u001b[0m \u001b[0;34m\"value\"\u001b[0m\u001b[0;34m:\u001b[0m \u001b[0malt\u001b[0m\u001b[0;34m}\u001b[0m\u001b[0;34m\u001b[0m\u001b[0m\n",
      "\u001b[0;31mNameError\u001b[0m: name 'sensor' is not defined"
     ]
    }
   ],
   "source": [
    "import os\n",
    "import sys\n",
    "import json\n",
    "import shutil\n",
    "PATH = \"/home/samuel/SpiderOak Hive/ACUASI/Code_Repos/nasa-tcl3-data-generator\"\n",
    "sys.path.append(PATH)\n",
    "from tcl3parsers import saa2, flight_data\n",
    "\n",
    "rootdir = \"/home/samuel/SpiderOak Hive/ACUASI/NASA TO6/Mission Data/SAA2\"\n",
    "\n",
    "days = []\n",
    "aircraft = []\n",
    "flights = []\n",
    "\n",
    "UASORG = \"ACUASI\"\n",
    "\n",
    "FLAG = 0\n",
    "\n",
    "if os.path.exists(rootdir + \"/deliverables\"):\n",
    "    shutil.rmtree(rootdir + \"/deliverables\")\n",
    "\n",
    "for dirpath, dirnames, filenames in os.walk(rootdir):\n",
    "    if filenames and \"Flight\" in dirpath:\n",
    "        flights.append(dirpath)\n",
    "                \n",
    "\n",
    "for flight in flights:\n",
    "    mi = \"\"\n",
    "    dataflash = \"\"\n",
    "    saa_ti = \"\"\n",
    "    saa_td = \"\"\n",
    "    for dirpath, dirnames, filenames in os.walk(flight):\n",
    "        if filenames:\n",
    "            for file in filenames:\n",
    "                if file.endswith(\".log\"):\n",
    "                    dataflash = os.path.join(dirpath, file)\n",
    "                    ts = file.strip(\".log\")\n",
    "                    date = ts.split(\" \")[0].replace(\"-\", \"\")\n",
    "                    time = ts.split(\" \")[1].replace(\"-\", \"\")[0:4]\n",
    "                    date2 = ts.split(\" \")[0]\n",
    "                if \"mission_insight\" in file:\n",
    "                    mi = os.path.join(dirpath, file)\n",
    "                if file.endswith(\"TI.csv\"):\n",
    "                    saa_ti = os.path.join(dirpath, file)\n",
    "                if file.endswith(\"TD.csv\"):\n",
    "                    saa_td = os.path.join(dirpath, file)\n",
    "                if file == \"SAA2.waypoints\":\n",
    "                    src = os.path.join(dirpath, file)\n",
    "            fd = \"{}/{}/{}/{}/{}-{}-{}-FLIGHT_DATA.json\".format(\"deliverables\", date, \"N970UA\", os.path.basename(flight), UASORG, date, time)\n",
    "            fd_name = os.path.join(rootdir, fd)\n",
    "            s = \"{}/{}/{}/{}/{}-{}-{}-SAA2.json\".format(\"deliverables\", date, \"N970UA\", os.path.basename(flight), UASORG, date, time)\n",
    "            s_name = os.path.join(rootdir, s)\n",
    "            dst = \"{}/{}/{}/{}/SAA2.waypoints\".format(\"deliverables\", date, \"N970UA\", os.path.basename(flight))\n",
    "            dst = os.path.join(rootdir, dst)\n",
    "            os.makedirs(os.path.dirname(fd_name), exist_ok=True)\n",
    "            os.makedirs(os.path.dirname(s_name), exist_ok=True)\n",
    "            os.makedirs(os.path.dirname(dst), exist_ok=True)\n",
    "            shutil.copyfile(src, dst)\n",
    "            flight_data.generate(mi, dataflash, fd_name)\n",
    "            saa2.generate(mi, saa_ti, saa_td, s_name)\n",
    "            \n",
    "print(\"Files generated.\")\n",
    "\n",
    "# Add `targetWaypoint*` variables to UAS State object in FLIGHT_DATA.json for first set of SAA2 flights\n",
    "# where waypoints were not used during flight but were calculated after the fact.\n",
    "for dirpath, dirnames, filenames in os.walk(rootdir + \"/deliverables\"):\n",
    "    if filenames:\n",
    "        for file in filenames:\n",
    "            if file.endswith(\"FLIGHT_DATA.json\"):\n",
    "                with open(os.path.join(dirpath, file), \"r\") as fd_file:\n",
    "                    print(file + \". . . opened!\")\n",
    "                    fd_json = json.load(fd_file)\n",
    "                    for item in fd_json[\"uasState\"]:\n",
    "                        try:\n",
    "                            if item[\"targetWaypointLat_deg\"]:\n",
    "                                FLAG = 1\n",
    "                        except KeyError:\n",
    "                            pass\n",
    "            if not FLAG:\n",
    "                with open(os.path.join(dirpath, \"SAA2.waypoints\"), \"r\") as wpts:\n",
    "                    for line in wpts:\n",
    "                        values = line.split(\"\\t\")\n",
    "                        if values[0] == \"1\":\n",
    "                            lat = float(values[8])\n",
    "                            lon = float(values[9])\n",
    "                            alt = float(values[10])\n",
    "                with open(os.path.join(dirpath, file), \"w\") as fd_file:\n",
    "                    time = fd_json[\"auxiliaryUASOperation\"][\"takeOffTime\"]\n",
    "                    waypoint_lat = {\"ts\": time, \"sensor\": \"targetWaypointLat_deg\", \"value\": lat}\n",
    "                    waypoint_lon = {\"ts\": time, \"sensor\": \"targetWaypointLon_deg\", \"value\": lon}\n",
    "                    waypoint_alt = {\"ts\": time, \"sensor\": \"targetWaypointAlt_deg\", \"value\": alt}\n",
    "                    fd_json[\"uasState\"].insert(0, waypoint_lat)\n",
    "                    fd_json[\"uasState\"].insert(0, waypoint_lon)\n",
    "                    fd_json[\"uasState\"].insert(0, waypoint_alt)\n",
    "                    json.dump(fd_json, fd_file, indent=4)\n",
    "print(\"Complete!\")"
   ]
  },
  {
   "cell_type": "code",
   "execution_count": null,
   "metadata": {
    "collapsed": true
   },
   "outputs": [],
   "source": []
  }
 ],
 "metadata": {
  "kernelspec": {
   "display_name": "Python 3",
   "language": "python",
   "name": "python3"
  },
  "language_info": {
   "codemirror_mode": {
    "name": "ipython",
    "version": 3
   },
   "file_extension": ".py",
   "mimetype": "text/x-python",
   "name": "python",
   "nbconvert_exporter": "python",
   "pygments_lexer": "ipython3",
   "version": "3.6.3"
  }
 },
 "nbformat": 4,
 "nbformat_minor": 2
}
