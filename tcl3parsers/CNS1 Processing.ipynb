{
 "cells": [
  {
   "cell_type": "code",
   "execution_count": 2,
   "metadata": {},
   "outputs": [
    {
     "name": "stdout",
     "output_type": "stream",
     "text": [
      "Complete!\n"
     ]
    }
   ],
   "source": [
    "import os\n",
    "import sys\n",
    "import shutil\n",
    "PATH = \"/home/samuel/SpiderOak Hive/ACUASI/Code_Repos/nasa-tcl3-data-generator\"\n",
    "sys.path.append(PATH)\n",
    "from tcl3parsers import cns1, flight_data\n",
    "\n",
    "\n",
    "rootdir = \"/home/samuel/SpiderOak Hive/ACUASI/NASA TO6/Mission Data/CNS1\"\n",
    "\n",
    "days = []\n",
    "aircraft = []\n",
    "flights = []\n",
    "\n",
    "UASORG = \"ACUASI\"\n",
    "\n",
    "if os.path.exists(rootdir + \"/deliverables\"):\n",
    "    shutil.rmtree(rootdir + \"/deliverables\")\n",
    "\n",
    "for dirpath, dirnames, filenames in os.walk(rootdir):\n",
    "    if filenames and \"Flight\" in dirpath:\n",
    "        flights.append(dirpath)\n",
    "                \n",
    "\n",
    "for flight in flights:\n",
    "    mi = \"\"\n",
    "    dataflash = \"\"\n",
    "    field_vars = \"\"\n",
    "    for dirpath, dirnames, filenames in os.walk(flight):\n",
    "        if filenames:\n",
    "            for file in filenames:\n",
    "                if file.endswith(\".log\"):\n",
    "                    dataflash = os.path.join(dirpath, file)\n",
    "                    ts = file.strip(\".log\")\n",
    "                    date = ts.split(\" \")[0].replace(\"-\", \"\")\n",
    "                    time = ts.split(\" \")[1].replace(\"-\", \"\")[0:4]\n",
    "                if \"mission_insight\" in file:\n",
    "                    mi = os.path.join(dirpath, file)\n",
    "                if file.endswith(\"field_vars.csv\"):\n",
    "                    field_vars = os.path.join(dirpath, file)\n",
    "            fd = \"{}/{}/{}-{}-{}-FLIGHT_DATA.json\".format(\"deliverables\", os.path.basename(flight), UASORG, date, time)\n",
    "            fd_name = os.path.join(rootdir, fd)\n",
    "            s = \"{}/{}/{}-{}-{}-CNS1.json\".format(\"deliverables\", os.path.basename(flight), UASORG, date, time)\n",
    "            s_name = os.path.join(rootdir, s)\n",
    "            os.makedirs(os.path.dirname(fd_name), exist_ok=True)\n",
    "            os.makedirs(os.path.dirname(s_name), exist_ok=True)\n",
    "#             print(fd_name)\n",
    "#             print(s_name + \"\\n\")\n",
    "            flight_data.generate(mi, dataflash, fd_name)\n",
    "            cns1.generate(mi, dataflash, field_vars, s_name)\n",
    "\n",
    "print(\"Complete!\")"
   ]
  },
  {
   "cell_type": "code",
   "execution_count": null,
   "metadata": {
    "collapsed": true
   },
   "outputs": [],
   "source": []
  }
 ],
 "metadata": {
  "kernelspec": {
   "display_name": "Python 3",
   "language": "python",
   "name": "python3"
  },
  "language_info": {
   "codemirror_mode": {
    "name": "ipython",
    "version": 3
   },
   "file_extension": ".py",
   "mimetype": "text/x-python",
   "name": "python",
   "nbconvert_exporter": "python",
   "pygments_lexer": "ipython3",
   "version": "3.6.3"
  }
 },
 "nbformat": 4,
 "nbformat_minor": 2
}
