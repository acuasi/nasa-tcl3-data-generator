{
 "cells": [
  {
   "cell_type": "code",
   "execution_count": 2,
   "metadata": {},
   "outputs": [
    {
     "name": "stdout",
     "output_type": "stream",
     "text": [
      "/home/samuel/SpiderOak Hive/ACUASI/NASA TO6/Mission Data/CNS1/deliverables/Flight 5/ACUASI-20180427-1308-FLIGHT_DATA.json\n",
      "/home/samuel/SpiderOak Hive/ACUASI/NASA TO6/Mission Data/CNS1/deliverables/Flight 5/ACUASI-20180427-1308-CNS1.json\n",
      "\n",
      "/home/samuel/SpiderOak Hive/ACUASI/NASA TO6/Mission Data/CNS1/deliverables/Flight 6/ACUASI-20180427-2127-FLIGHT_DATA.json\n",
      "/home/samuel/SpiderOak Hive/ACUASI/NASA TO6/Mission Data/CNS1/deliverables/Flight 6/ACUASI-20180427-2127-CNS1.json\n",
      "\n",
      "/home/samuel/SpiderOak Hive/ACUASI/NASA TO6/Mission Data/CNS1/deliverables/Flight 2/ACUASI-20180427-2003-FLIGHT_DATA.json\n",
      "/home/samuel/SpiderOak Hive/ACUASI/NASA TO6/Mission Data/CNS1/deliverables/Flight 2/ACUASI-20180427-2003-CNS1.json\n",
      "\n",
      "/home/samuel/SpiderOak Hive/ACUASI/NASA TO6/Mission Data/CNS1/deliverables/Flight 3/ACUASI-20180427-1222-FLIGHT_DATA.json\n",
      "/home/samuel/SpiderOak Hive/ACUASI/NASA TO6/Mission Data/CNS1/deliverables/Flight 3/ACUASI-20180427-1222-CNS1.json\n",
      "\n",
      "/home/samuel/SpiderOak Hive/ACUASI/NASA TO6/Mission Data/CNS1/deliverables/Flight 1/ACUASI-20180427-1116-FLIGHT_DATA.json\n",
      "/home/samuel/SpiderOak Hive/ACUASI/NASA TO6/Mission Data/CNS1/deliverables/Flight 1/ACUASI-20180427-1116-CNS1.json\n",
      "\n",
      "/home/samuel/SpiderOak Hive/ACUASI/NASA TO6/Mission Data/CNS1/deliverables/Flight 4/ACUASI-20180427-2044-FLIGHT_DATA.json\n",
      "/home/samuel/SpiderOak Hive/ACUASI/NASA TO6/Mission Data/CNS1/deliverables/Flight 4/ACUASI-20180427-2044-CNS1.json\n",
      "\n",
      "Complete!\n"
     ]
    }
   ],
   "source": [
    "import os\n",
    "import flight_data\n",
    "import saa2\n",
    "\n",
    "rootdir = \"/home/samuel/SpiderOak Hive/ACUASI/NASA TO6/Mission Data/CNS1\"\n",
    "\n",
    "days = []\n",
    "aircraft = []\n",
    "flights = []\n",
    "\n",
    "UASORG = \"ACUASI\"\n",
    "\n",
    "\n",
    "for dirpath, dirnames, filenames in os.walk(rootdir):\n",
    "    if filenames and \"Flight\" in dirpath:\n",
    "        flights.append(dirpath)\n",
    "                \n",
    "\n",
    "for flight in flights:\n",
    "    mi = \"\"\n",
    "    dataflash = \"\"\n",
    "    field_vars = \"\"\n",
    "    for dirpath, dirnames, filenames in os.walk(flight):\n",
    "        if filenames:\n",
    "            for file in filenames:\n",
    "                if file.endswith(\".log\"):\n",
    "                    dataflash = os.path.join(dirpath, file)\n",
    "                    ts = file.strip(\".log\")\n",
    "                    date = ts.split(\" \")[0].replace(\"-\", \"\")\n",
    "                    time = ts.split(\" \")[1].replace(\"-\", \"\")[0:4]\n",
    "                if \"mission_insight\" in file:\n",
    "                    mi = os.path.join(dirpath, file)\n",
    "                if file.endswith(\"field_vars.csv\"):\n",
    "                    field_vars = os.path.join(dirpath, file)\n",
    "            fd = \"{}/{}/{}-{}-{}-FLIGHT_DATA.json\".format(\"deliverables\", os.path.basename(flight), UASORG, date, time)\n",
    "            fd_name = os.path.join(rootdir, fd)\n",
    "            s = \"{}/{}/{}-{}-{}-CNS1.json\".format(\"deliverables\", os.path.basename(flight), UASORG, date, time)\n",
    "            s_name = os.path.join(rootdir, s)\n",
    "            os.makedirs(os.path.dirname(fd_name), exist_ok=True)\n",
    "            os.makedirs(os.path.dirname(s_name), exist_ok=True)\n",
    "            print(fd_name)\n",
    "            print(s_name + \"\\n\")\n",
    "#             flight_data.generate(mi, dataflash, fd_name)\n",
    "#             cns1.generate(mi, field_vars, s_name)\n",
    "\n",
    "print(\"Complete!\")"
   ]
  },
  {
   "cell_type": "code",
   "execution_count": null,
   "metadata": {
    "collapsed": true
   },
   "outputs": [],
   "source": []
  }
 ],
 "metadata": {
  "kernelspec": {
   "display_name": "Python 3",
   "language": "python",
   "name": "python3"
  },
  "language_info": {
   "codemirror_mode": {
    "name": "ipython",
    "version": 3
   },
   "file_extension": ".py",
   "mimetype": "text/x-python",
   "name": "python",
   "nbconvert_exporter": "python",
   "pygments_lexer": "ipython3",
   "version": "3.6.3"
  }
 },
 "nbformat": 4,
 "nbformat_minor": 2
}
