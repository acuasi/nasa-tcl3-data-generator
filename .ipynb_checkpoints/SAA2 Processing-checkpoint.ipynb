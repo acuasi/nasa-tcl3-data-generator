{
 "cells": [
  {
   "cell_type": "markdown",
   "metadata": {},
   "source": [
    "# SAA2 Processing\n",
    "\n",
    "* Mission Insight csv file did not have a gcs_location parameter; added manually. Ensure it's recorded for future flights.\n",
    "* The dataflash file is the same for Flights 1-3. Fixed by separating out into three files. "
   ]
  },
  {
   "cell_type": "markdown",
   "metadata": {
    "collapsed": true
   },
   "source": []
  },
  {
   "cell_type": "code",
   "execution_count": 5,
   "metadata": {},
   "outputs": [
    {
     "name": "stdout",
     "output_type": "stream",
     "text": [
      "Complete!\n"
     ]
    }
   ],
   "source": [
    "import os\n",
    "import flight_data\n",
    "import saa2\n",
    "\n",
    "rootdir = \"/home/samuel/SpiderOak Hive/ACUASI/NASA TO6/Mission Data/SAA2\"\n",
    "\n",
    "days = []\n",
    "aircraft = []\n",
    "flights = []\n",
    "\n",
    "UASORG = \"ACUASI\"\n",
    "\n",
    "\n",
    "for dirpath, dirnames, filenames in os.walk(rootdir):\n",
    "    if filenames and \"Flight\" in dirpath:\n",
    "        flights.append(dirpath)\n",
    "                \n",
    "\n",
    "for flight in flights:\n",
    "    mi = \"\"\n",
    "    dataflash = \"\"\n",
    "    saa_ti = \"\"\n",
    "    saa_td = \"\"\n",
    "    for dirpath, dirnames, filenames in os.walk(flight):\n",
    "        if filenames:\n",
    "            for file in filenames:\n",
    "                if file.endswith(\".log\"):\n",
    "                    dataflash = os.path.join(dirpath, file)\n",
    "                    ts = file.strip(\".log\")\n",
    "                    date = ts.split(\" \")[0].replace(\"-\", \"\")\n",
    "                    time = ts.split(\" \")[1].replace(\"-\", \"\")[0:4]\n",
    "                if \"mission_insight\" in file:\n",
    "                    mi = os.path.join(dirpath, file)\n",
    "                if file.endswith(\"TI.csv\"):\n",
    "                    saa_ti = os.path.join(dirpath, file)\n",
    "                if file.endswith(\"TD.csv\"):\n",
    "                    saa_td = os.path.join(dirpath, file)\n",
    "            fd = \"{}/{}/{}-{}-{}-FLIGHT_DATA.json\".format(\"deliverables\", os.path.basename(flight), UASORG, date, time)\n",
    "            fd_name = os.path.join(rootdir, fd)\n",
    "            s = \"{}/{}/{}-{}-{}-SAA2.json\".format(\"deliverables\", os.path.basename(flight), UASORG, date, time)\n",
    "            s_name = os.path.join(rootdir, s)\n",
    "            os.makedirs(os.path.dirname(fd_name), exist_ok=True)\n",
    "            os.makedirs(os.path.dirname(s_name), exist_ok=True)\n",
    "            flight_data.generate(mi, dataflash, fd_name)\n",
    "            saa2.generate(mi, saa_ti, saa_td, s_name)\n",
    "\n",
    "print(\"Complete!\")\n",
    "            "
   ]
  },
  {
   "cell_type": "code",
   "execution_count": null,
   "metadata": {
    "collapsed": true
   },
   "outputs": [],
   "source": []
  },
  {
   "cell_type": "code",
   "execution_count": null,
   "metadata": {
    "collapsed": true
   },
   "outputs": [],
   "source": []
  }
 ],
 "metadata": {
  "kernelspec": {
   "display_name": "Python 3",
   "language": "python",
   "name": "python3"
  },
  "language_info": {
   "codemirror_mode": {
    "name": "ipython",
    "version": 3
   },
   "file_extension": ".py",
   "mimetype": "text/x-python",
   "name": "python",
   "nbconvert_exporter": "python",
   "pygments_lexer": "ipython3",
   "version": "3.6.3"
  }
 },
 "nbformat": 4,
 "nbformat_minor": 2
}
